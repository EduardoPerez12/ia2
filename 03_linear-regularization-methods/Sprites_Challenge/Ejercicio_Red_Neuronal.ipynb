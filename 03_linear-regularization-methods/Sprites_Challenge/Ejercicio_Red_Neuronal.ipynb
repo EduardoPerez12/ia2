{
  "cells": [
    {
      "cell_type": "code",
      "execution_count": null,
      "metadata": {
        "id": "utVQclSyAk0u"
      },
      "outputs": [],
      "source": [
        "#importar librerias\n",
        "import os, sys\n",
        "import random\n",
        "from pathlib import Path\n",
        "\n",
        "import matplotlib.pyplot as plt\n",
        "import numpy as np\n",
        "import torch\n",
        "import torch.nn as nn\n",
        "import torchvision.transforms as transforms\n",
        "from tqdm.auto import tqdm\n",
        "from matplotlib.animation import FuncAnimation, PillowWriter\n",
        "from PIL import Image\n",
        "from torch.utils.data import DataLoader, Dataset\n",
        "from torchvision.utils import make_grid, save_image\n",
        "from google.colab import drive\n",
        "from types import SimpleNamespace\n",
        "import numpy as np\n",
        "import tensorflow as tf\n",
        "from tensorflow import keras\n",
        "from tensorflow.keras import layers\n",
        "from sklearn.model_selection import train_test_split\n",
        "\n"
      ]
    },
    {
      "cell_type": "code",
      "execution_count": null,
      "metadata": {
        "colab": {
          "base_uri": "https://localhost:8080/"
        },
        "id": "ofcJ3rr6UL94",
        "outputId": "5ea4af49-c8a4-4db2-d35e-7356732b819c"
      },
      "outputs": [
        {
          "name": "stdout",
          "output_type": "stream",
          "text": [
            "Mounted at /content/drive\n"
          ]
        }
      ],
      "source": [
        "#Cargar los datos\n",
        "drive.mount('/content/drive')\n",
        "\n",
        "\n",
        "image = Image.open('/content/drive/My Drive/data/sprite_sample.png')\n",
        "\n",
        "\n",
        "sprites_img = np.load('/content/drive/My Drive/data/sprites_1788_16x16.npy')\n",
        "sprites_label = np.load('/content/drive/My Drive/data/sprite_labels_nc_1788_16x16.npy')"
      ]
    },
    {
      "cell_type": "code",
      "execution_count": null,
      "metadata": {
        "colab": {
          "base_uri": "https://localhost:8080/"
        },
        "id": "_4SqHR0qOS_4",
        "outputId": "f106a334-45ba-4048-9470-49b9f5937679"
      },
      "outputs": [
        {
          "data": {
            "text/plain": [
              "(89400, 16, 16, 3)"
            ]
          },
          "execution_count": 3,
          "metadata": {},
          "output_type": "execute_result"
        }
      ],
      "source": [
        "#Dimensiones de sprites_img\n",
        "sprites_img.shape"
      ]
    },
    {
      "cell_type": "code",
      "execution_count": null,
      "metadata": {
        "colab": {
          "base_uri": "https://localhost:8080/"
        },
        "id": "GFPG70h5RQ_m",
        "outputId": "a50a7091-f4fe-4b51-b9c9-a31963644ff4"
      },
      "outputs": [
        {
          "data": {
            "text/plain": [
              "(89400, 5)"
            ]
          },
          "execution_count": 4,
          "metadata": {},
          "output_type": "execute_result"
        }
      ],
      "source": [
        "#Dimensiones de sprites_img\n",
        "sprites_label.shape"
      ]
    },
    {
      "cell_type": "code",
      "execution_count": null,
      "metadata": {
        "id": "BLUJVtiXPpWT"
      },
      "outputs": [],
      "source": [
        "\n",
        "# Dividir los datos en conjuntos de entrenamiento y prueba\n",
        "# El parámetro test_size determina la proporción de datos que se asignarán al conjunto de prueba\n",
        "# random_state es una semilla aleatoria que asegura que la división sea reproducible\n",
        "train_img, test_img, train_label, test_label = train_test_split(sprites_img, sprites_label, test_size=0.3, random_state=42)"
      ]
    },
    {
      "cell_type": "code",
      "execution_count": null,
      "metadata": {
        "colab": {
          "base_uri": "https://localhost:8080/"
        },
        "id": "Upl3SyVARv4j",
        "outputId": "1adfe67a-8963-4dd2-851a-cc598d08f194"
      },
      "outputs": [
        {
          "data": {
            "text/plain": [
              "62580"
            ]
          },
          "execution_count": 44,
          "metadata": {},
          "output_type": "execute_result"
        }
      ],
      "source": [
        "len(train_img)"
      ]
    },
    {
      "cell_type": "code",
      "execution_count": null,
      "metadata": {
        "colab": {
          "base_uri": "https://localhost:8080/"
        },
        "id": "6mIiTS8lR7FC",
        "outputId": "4279e01b-aa12-4afb-ec35-5e09c3ab0654"
      },
      "outputs": [
        {
          "data": {
            "text/plain": [
              "26820"
            ]
          },
          "execution_count": 45,
          "metadata": {},
          "output_type": "execute_result"
        }
      ],
      "source": [
        "len(test_img)"
      ]
    },
    {
      "cell_type": "code",
      "execution_count": null,
      "metadata": {
        "id": "Fo1_n-45HQN7"
      },
      "outputs": [],
      "source": [
        "# Define the model\n",
        "#Se utilizo un modelo secuencial, con shape le indicamos a la red neuronal que espere datos de 16x16x3\n",
        "#Flatten se utiliza como capa de preprocesamiento para convertir datos de imágenes en un formato adecuado para capas densamente conectadas.\n",
        "model = keras.Sequential([\n",
        "    layers.Input(shape=(16, 16, 3)),\n",
        "    layers.Flatten(),\n",
        "    layers.Dense(512, activation=\"relu\"),  #capa con 512 neuronas de entrada\n",
        "    layers.Dense(5, activation=\"softmax\")  #salida con 5\n",
        "])"
      ]
    },
    {
      "cell_type": "code",
      "execution_count": null,
      "metadata": {
        "id": "0xzoGlyiHiGW"
      },
      "outputs": [],
      "source": [
        "model.compile(optimizer=\"adam\",\n",
        "              loss=\"categorical_crossentropy\",\n",
        "              metrics=[\"accuracy\"])"
      ]
    },
    {
      "cell_type": "code",
      "execution_count": null,
      "metadata": {
        "id": "NRs7JRlsMGxt"
      },
      "outputs": [],
      "source": [
        "#la normalización es una práctica común para asegurarse de que los valores de píxeles estén en un rango adecuado. Dado que tus imágenes son en escala de 0 a 255 (por canal de color), puedes dividir todos los valores de píxeles por 255 para que estén en el rango [0, 1].\n",
        "\n",
        "train_img = train_img.reshape((62580, 16 * 16 * 3)).astype(\"float32\") / 255.0\n",
        "\n",
        "test_img = test_img.reshape((26820, 16 * 16 * 3)).astype(\"float32\") / 255.0"
      ]
    },
    {
      "cell_type": "code",
      "execution_count": null,
      "metadata": {
        "id": "Acu2VqJpXohJ"
      },
      "outputs": [],
      "source": [
        "train_img = train_img.reshape((62580, 16, 16, 3))\n",
        "test_img = test_img.reshape((26820, 16, 16, 3))"
      ]
    },
    {
      "cell_type": "code",
      "execution_count": null,
      "metadata": {
        "colab": {
          "base_uri": "https://localhost:8080/"
        },
        "id": "-dH3iVO0YwSU",
        "outputId": "aa2bf8be-5c4b-4296-878e-257645cb9569"
      },
      "outputs": [
        {
          "data": {
            "text/plain": [
              "(62580, 16, 16, 3)"
            ]
          },
          "execution_count": 51,
          "metadata": {},
          "output_type": "execute_result"
        }
      ],
      "source": [
        "train_img.shape"
      ]
    },
    {
      "cell_type": "code",
      "execution_count": null,
      "metadata": {
        "colab": {
          "base_uri": "https://localhost:8080/"
        },
        "id": "vo5deJFKahso",
        "outputId": "100890dc-a997-480b-809f-f42e22240d27"
      },
      "outputs": [
        {
          "data": {
            "text/plain": [
              "(62580, 5)"
            ]
          },
          "execution_count": 52,
          "metadata": {},
          "output_type": "execute_result"
        }
      ],
      "source": [
        "train_label.shape"
      ]
    },
    {
      "cell_type": "code",
      "execution_count": null,
      "metadata": {
        "colab": {
          "base_uri": "https://localhost:8080/"
        },
        "id": "EEpttnDTH_Ue",
        "outputId": "d38eb15f-cf0c-47d8-8ff3-2e2a19304c0f"
      },
      "outputs": [
        {
          "name": "stdout",
          "output_type": "stream",
          "text": [
            "Epoch 1/10\n",
            "123/123 [==============================] - 3s 21ms/step - loss: 0.5058 - accuracy: 0.8410\n",
            "Epoch 2/10\n",
            "123/123 [==============================] - 2s 17ms/step - loss: 0.0871 - accuracy: 0.9811\n",
            "Epoch 3/10\n",
            "123/123 [==============================] - 2s 17ms/step - loss: 0.0323 - accuracy: 0.9974\n",
            "Epoch 4/10\n",
            "123/123 [==============================] - 2s 17ms/step - loss: 0.0143 - accuracy: 1.0000\n",
            "Epoch 5/10\n",
            "123/123 [==============================] - 2s 19ms/step - loss: 0.0079 - accuracy: 1.0000\n",
            "Epoch 6/10\n",
            "123/123 [==============================] - 2s 19ms/step - loss: 0.0049 - accuracy: 1.0000\n",
            "Epoch 7/10\n",
            "123/123 [==============================] - 2s 17ms/step - loss: 0.0033 - accuracy: 1.0000\n",
            "Epoch 8/10\n",
            "123/123 [==============================] - 2s 16ms/step - loss: 0.0024 - accuracy: 1.0000\n",
            "Epoch 9/10\n",
            "123/123 [==============================] - 2s 15ms/step - loss: 0.0018 - accuracy: 1.0000\n",
            "Epoch 10/10\n",
            "123/123 [==============================] - 2s 15ms/step - loss: 0.0014 - accuracy: 1.0000\n"
          ]
        },
        {
          "data": {
            "text/plain": [
              "<keras.callbacks.History at 0x7a9c80105ea0>"
            ]
          },
          "execution_count": 10,
          "metadata": {},
          "output_type": "execute_result"
        }
      ],
      "source": [
        "model.fit(train_img, train_label, epochs=10, batch_size=512)"
      ]
    },
    {
      "cell_type": "code",
      "execution_count": null,
      "metadata": {
        "colab": {
          "base_uri": "https://localhost:8080/"
        },
        "id": "ik3I6SZncg6P",
        "outputId": "6c98ce8d-c56a-457d-9292-df3d4a3e94b0"
      },
      "outputs": [
        {
          "name": "stdout",
          "output_type": "stream",
          "text": [
            "1/1 [==============================] - 0s 84ms/step\n"
          ]
        },
        {
          "data": {
            "text/plain": [
              "array([8.1882912e-10, 7.8072743e-10, 2.0732421e-03, 9.9792659e-01,\n",
              "       1.2855226e-07], dtype=float32)"
            ]
          },
          "execution_count": 11,
          "metadata": {},
          "output_type": "execute_result"
        }
      ],
      "source": [
        "test_digits = test_img[0:10]\n",
        "predictions = model.predict(test_digits)\n",
        "predictions[0]"
      ]
    },
    {
      "cell_type": "code",
      "execution_count": null,
      "metadata": {
        "colab": {
          "base_uri": "https://localhost:8080/"
        },
        "id": "GICHY6N-c5Gs",
        "outputId": "32b91041-1e14-43bd-b521-11fe2b4cc68f"
      },
      "outputs": [
        {
          "data": {
            "text/plain": [
              "3"
            ]
          },
          "execution_count": 67,
          "metadata": {},
          "output_type": "execute_result"
        }
      ],
      "source": [
        "predictions[0].argmax()"
      ]
    },
    {
      "cell_type": "code",
      "execution_count": null,
      "metadata": {
        "colab": {
          "background_save": true,
          "base_uri": "https://localhost:8080/"
        },
        "id": "Gp0nOMFbc-IX",
        "outputId": "99b72d94-b713-45c5-ddb9-f9daba2c982e"
      },
      "outputs": [
        {
          "data": {
            "text/plain": [
              "0.9979266"
            ]
          },
          "execution_count": 13,
          "metadata": {},
          "output_type": "execute_result"
        }
      ],
      "source": [
        "predictions[0][3]"
      ]
    },
    {
      "cell_type": "code",
      "execution_count": null,
      "metadata": {
        "colab": {
          "base_uri": "https://localhost:8080/"
        },
        "id": "brKY39-vdCdE",
        "outputId": "0d357e0f-b551-414f-9176-fd328640a6bf"
      },
      "outputs": [
        {
          "data": {
            "text/plain": [
              "array([0., 0., 0., 1., 0.])"
            ]
          },
          "execution_count": 72,
          "metadata": {},
          "output_type": "execute_result"
        }
      ],
      "source": [
        "test_label[0]"
      ]
    },
    {
      "cell_type": "markdown",
      "metadata": {
        "id": "fWfxKB1bHQAu"
      },
      "source": []
    },
    {
      "cell_type": "code",
      "execution_count": null,
      "metadata": {
        "colab": {
          "base_uri": "https://localhost:8080/"
        },
        "id": "6GOYdgNldNeE",
        "outputId": "7802f074-519f-4e70-c063-ef8aedc4127a"
      },
      "outputs": [
        {
          "name": "stdout",
          "output_type": "stream",
          "text": [
            "839/839 [==============================] - 3s 3ms/step - loss: 1.9048e-06 - accuracy: 1.0000\n",
            "test_acc: 1.0\n"
          ]
        }
      ],
      "source": [
        "test_loss, test_acc = model.evaluate(test_img, test_label)\n",
        "print(f\"test_acc: {test_acc}\")"
      ]
    }
  ],
  "metadata": {
    "colab": {
      "provenance": []
    },
    "kernelspec": {
      "display_name": "Python 3",
      "name": "python3"
    },
    "language_info": {
      "name": "python"
    }
  },
  "nbformat": 4,
  "nbformat_minor": 0
}